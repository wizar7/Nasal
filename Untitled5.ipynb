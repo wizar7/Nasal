{
 "cells": [
  {
   "cell_type": "code",
   "execution_count": 31,
   "id": "3361332a",
   "metadata": {},
   "outputs": [
    {
     "data": {
      "text/plain": [
       "'output9.mid'"
      ]
     },
     "execution_count": 31,
     "metadata": {},
     "output_type": "execute_result"
    }
   ],
   "source": [
    "from music21 import stream, note, chord\n",
    "\n",
    "def generate_melody(notes):\n",
    "    melody = stream.Stream()\n",
    "\n",
    "    for note_name in notes:\n",
    "        if '.' in note_name:  # Handle chords\n",
    "            chord_notes = note_name.split('.')\n",
    "            chord_notes_objects = [note.Note(n) for n in chord_notes]\n",
    "            chord_note = chord.Chord(chord_notes_object)\n",
    "            melody.append(chord_note)\n",
    "        else:  # Single note\n",
    "            new_note = note.Note(note_name)\n",
    "            melody.append(new_note)\n",
    "\n",
    "    return melody\n",
    "\n",
    "notes7 = ['E3' ,'G#3' ,'B3', 'G#3'] # temperature for LILY\n",
    "notes8 = ['G#3', 'E3', 'G#3', 'E3'] # pressure for LILY\n",
    "notes9 = ['B3', 'C#3', 'E3', 'C#3'] # humidity for LILY\n",
    "\n",
    "notes1 = ['Ab', 'Bb', 'C', 'Eb', 'F', 'Ab'] # Ab pentatonic scale for ROSE\n",
    "notes2 = ['E', 'F#', 'G#', 'B', 'C#', 'E'] # E pentatonic scale for LILY\n",
    "notes3 = ['C','D', 'E', 'G', 'A', 'C']    # C pentatonic scale for MARGARET\n",
    "\n",
    "notes4 = ['C4', 'A3', 'G3', 'C4', 'A3', 'D4', 'E4', 'C3']\n",
    "notes5 = ['E4', 'C#4', 'B3', 'E4', 'C#4', 'F#3', 'G#3', 'E3']\n",
    "notes6 = ['Ab4', 'F3', 'Eb3', 'Ab4', 'F3', 'Bb3', 'C4', 'Ab']\n",
    "\n",
    "melody_stream = generate_melody(notes1)\n",
    "# Optionally, you can write the generated melody to a MIDI file\n",
    "melody_stream.write('midi', fp='output1.mid')\n",
    "\n",
    "melody_stream = generate_melody(notes2)\n",
    "# Optionally, you can write the generated melody to a MIDI file\n",
    "melody_stream.write('midi', fp='output2.mid')\n",
    "\n",
    "melody_stream = generate_melody(notes3)\n",
    "# Optionally, you can write the generated melody to a MIDI file\n",
    "melody_stream.write('midi', fp='output3.mid')\n",
    "\n",
    "melody_stream = generate_melody(notes4)\n",
    "# Optionally, you can write the generated melody to a MIDI file\n",
    "melody_stream.write('midi', fp='output4.mid')\n",
    "\n",
    "melody_stream = generate_melody(notes5)\n",
    "# Optionally, you can write the generated melody to a MIDI file\n",
    "melody_stream.write('midi', fp='output5.mid')\n",
    "\n",
    "melody_stream = generate_melody(notes6)\n",
    "# Optionally, you can write the generated melody to a MIDI file\n",
    "melody_stream.write('midi', fp='output6.mid')\n",
    "\n",
    "melody_stream = generate_melody(notes7)\n",
    "# Optionally, you can write the generated melody to a MIDI file\n",
    "melody_stream.write('midi', fp='output7.mid')\n",
    "\n",
    "melody_stream = generate_melody(notes8)\n",
    "# Optionally, you can write the generated melody to a MIDI file\n",
    "melody_stream.write('midi', fp='output8.mid')\n",
    "\n",
    "melody_stream = generate_melody(notes9)\n",
    "# Optionally, you can write the generated melody to a MIDI file\n",
    "melody_stream.write('midi', fp='output9.mid')"
   ]
  },
  {
   "cell_type": "code",
   "execution_count": 1,
   "id": "1c7a1198",
   "metadata": {},
   "outputs": [
    {
     "name": "stdout",
     "output_type": "stream",
     "text": [
      "pygame 2.4.0 (SDL 2.26.4, Python 3.8.8)\n",
      "Hello from the pygame community. https://www.pygame.org/contribute.html\n"
     ]
    }
   ],
   "source": [
    "import pygame\n",
    "\n",
    "# Initialize pygame\n",
    "pygame.init()\n",
    "\n",
    "# Set up the mixer module\n",
    "pygame.mixer.init()\n",
    "\n",
    "# Define a list of MIDI files to play\n",
    "midi_files = [\"output1.mid\", \"output2.mid\", \"output3.mid\", \"output4.mid\", \"output5.mid\", \"output6.mid\"]\n",
    "#midi_files= [\"output7.mid\", \"output8.mid\", \"output9.mid\",'output5.mid']\n",
    "\n",
    "# Loop through the MIDI files\n",
    "for file in midi_files:\n",
    "    pygame.mixer.music.load(file)  # Load the MIDI file\n",
    "    pygame.mixer.music.play(0)  # Play the MIDI file\n",
    "\n",
    "    # Wait for the music to finish playing\n",
    "    while pygame.mixer.music.get_busy():\n",
    "        pass\n",
    "# Quit pygame\n",
    "pygame.quit()"
   ]
  },
  {
   "cell_type": "code",
   "execution_count": 9,
   "id": "959b4d59",
   "metadata": {},
   "outputs": [
    {
     "data": {
      "text/plain": [
       "8"
      ]
     },
     "execution_count": 9,
     "metadata": {},
     "output_type": "execute_result"
    }
   ],
   "source": [
    "import pygame\n",
    "\n",
    "# Initialize pygame\n",
    "pygame.init()\n",
    "\n",
    "# Set up the mixer module\n",
    "pygame.mixer.init()\n",
    "\n",
    "pygame.mixer.get_num_channels()"
   ]
  },
  {
   "cell_type": "code",
   "execution_count": 6,
   "id": "4fc505ce",
   "metadata": {
    "scrolled": true
   },
   "outputs": [
    {
     "ename": "IndexError",
     "evalue": "invalid channel index",
     "output_type": "error",
     "traceback": [
      "\u001b[0;31m---------------------------------------------------------------------------\u001b[0m",
      "\u001b[0;31mIndexError\u001b[0m                                Traceback (most recent call last)",
      "\u001b[0;32m<ipython-input-6-eb9856ec154d>\u001b[0m in \u001b[0;36m<module>\u001b[0;34m\u001b[0m\n\u001b[1;32m     18\u001b[0m \u001b[0;31m# Loop through the music files\u001b[0m\u001b[0;34m\u001b[0m\u001b[0;34m\u001b[0m\u001b[0;34m\u001b[0m\u001b[0m\n\u001b[1;32m     19\u001b[0m \u001b[0;32mfor\u001b[0m \u001b[0mi\u001b[0m\u001b[0;34m,\u001b[0m \u001b[0mfile\u001b[0m \u001b[0;32min\u001b[0m \u001b[0menumerate\u001b[0m\u001b[0;34m(\u001b[0m\u001b[0mmusic_files\u001b[0m\u001b[0;34m)\u001b[0m\u001b[0;34m:\u001b[0m\u001b[0;34m\u001b[0m\u001b[0;34m\u001b[0m\u001b[0m\n\u001b[0;32m---> 20\u001b[0;31m     \u001b[0mchannel\u001b[0m \u001b[0;34m=\u001b[0m \u001b[0mpygame\u001b[0m\u001b[0;34m.\u001b[0m\u001b[0mmixer\u001b[0m\u001b[0;34m.\u001b[0m\u001b[0mChannel\u001b[0m\u001b[0;34m(\u001b[0m\u001b[0mi\u001b[0m\u001b[0;34m)\u001b[0m  \u001b[0;31m# Get the channel corresponding to the index\u001b[0m\u001b[0;34m\u001b[0m\u001b[0;34m\u001b[0m\u001b[0m\n\u001b[0m\u001b[1;32m     21\u001b[0m \u001b[0;34m\u001b[0m\u001b[0m\n\u001b[1;32m     22\u001b[0m     \u001b[0;31m# Load and play the music file on the channel\u001b[0m\u001b[0;34m\u001b[0m\u001b[0;34m\u001b[0m\u001b[0;34m\u001b[0m\u001b[0m\n",
      "\u001b[0;31mIndexError\u001b[0m: invalid channel index"
     ]
    }
   ],
   "source": [
    "\n",
    "import pygame\n",
    "\n",
    "# Initialize pygame\n",
    "pygame.init()\n",
    "\n",
    "# Set up the mixer module\n",
    "pygame.mixer.init()\n",
    "\n",
    "# Define the number of channels to use\n",
    "num_channels = 2\n",
    "\n",
    "# Reserve the specified number of channels\n",
    "pygame.mixer.set_num_channels(num_channels)\n",
    "\n",
    "# Define a list of music files to play on different channels\n",
    "music_files = [\"output7.wav\", \"output8.wav\", \"output9.wav\",'output5.wav']\n",
    "\n",
    "# Loop through the music files\n",
    "for i, file in enumerate(music_files):\n",
    "    channel = pygame.mixer.Channel(i)  # Get the channel corresponding to the index\n",
    "\n",
    "    # Load and play the music file on the channel\n",
    "    sound = pygame.mixer.Sound(file)\n",
    "\n",
    "\n",
    "    channel.play(sound)\n",
    "\n",
    "# Wait for the music to finish playing\n",
    "while any(pygame.mixer.Channel(i).get_busy() for i in range(num_channels)):\n",
    "    pass\n",
    "\n",
    "# Quit pygame\n",
    "pygame.quit()\n",
    "\n",
    "\n"
   ]
  },
  {
   "cell_type": "code",
   "execution_count": 5,
   "id": "9c8f5dd7",
   "metadata": {},
   "outputs": [
    {
     "name": "stdout",
     "output_type": "stream",
     "text": [
      "3.8.8 (default, Apr 13 2021, 12:59:45) \n",
      "[Clang 10.0.0 ]\n"
     ]
    }
   ],
   "source": [
    "import sys\n",
    "print(sys.version)"
   ]
  },
  {
   "cell_type": "code",
   "execution_count": 31,
   "id": "22cc99c2",
   "metadata": {},
   "outputs": [
    {
     "name": "stdout",
     "output_type": "stream",
     "text": [
      "['Ab1-half.wav', 'Bb1-half.wav', 'Ab1-half.wav', 'Ab1-quarter.wav']\n"
     ]
    }
   ],
   "source": [
    "import pygame\n",
    "import random\n",
    "    \n",
    "list1 = ['Ab', 'Bb', 'C', 'Eb', 'F', 'Ab'] # Ab pentatonic scale for ROSE\n",
    "list2 = ['E', 'F#', 'G#', 'B', 'C#', 'E'] # E pentatonic scale for LILY\n",
    "list3 = ['C','D', 'E', 'G', 'A', 'C']    # C pentatonic scale for MARGARET\n",
    "flower=1\n",
    "\n",
    "#def melody(flower,temperature,pressure,humidity,gas):\n",
    "note1=random.choice(list1)+\"1\"+\"-half.wav\"\n",
    "note2=random.choice(list1)+\"1\"+\"-half.wav\"\n",
    "note3=random.choice(list1)+\"1\"+\"-half.wav\"\n",
    "note4=random.choice(list1)+\"1\"+\"-quarter.wav\" #for gas\n",
    "   \n",
    "\n",
    "# Initialize pygame\n",
    "pygame.init()\n",
    "\n",
    "# Set up the mixer module\n",
    "pygame.mixer.init()\n",
    "\n",
    "# Define the number of channels to use\n",
    "num_channels = 4\n",
    "\n",
    "# Reserve the specified number of channels\n",
    "pygame.mixer.set_num_channels(num_channels)\n",
    "\n",
    "# Define a list of music files to play on different channels\n",
    "music_files = [note1, note2, note3, note4]\n",
    "print(music_files )\n",
    "\n",
    "# Loop through the music files\n",
    "for i, file in enumerate(music_files):\n",
    "    channel = pygame.mixer.Channel(i)  # Get the channel corresponding to the index\n",
    "\n",
    "    # Load and play the music file on the channel\n",
    "    sound = pygame.mixer.Sound(file)\n",
    "\n",
    "\n",
    "    channel.play(sound)\n",
    "\n",
    "# Wait for the music to finish playing\n",
    "while any(pygame.mixer.Channel(i).get_busy() for i in range(num_channels)):\n",
    "    pass\n",
    "\n",
    "# Quit pygame\n",
    "pygame.quit()"
   ]
  },
  {
   "cell_type": "code",
   "execution_count": null,
   "id": "ca164fb5",
   "metadata": {},
   "outputs": [],
   "source": []
  },
  {
   "cell_type": "code",
   "execution_count": null,
   "id": "a983056f",
   "metadata": {},
   "outputs": [],
   "source": []
  },
  {
   "cell_type": "code",
   "execution_count": null,
   "id": "bd92f033",
   "metadata": {},
   "outputs": [],
   "source": []
  },
  {
   "cell_type": "code",
   "execution_count": null,
   "id": "c2a9e71b",
   "metadata": {},
   "outputs": [],
   "source": []
  }
 ],
 "metadata": {
  "kernelspec": {
   "display_name": "Python 3",
   "language": "python",
   "name": "python3"
  },
  "language_info": {
   "codemirror_mode": {
    "name": "ipython",
    "version": 3
   },
   "file_extension": ".py",
   "mimetype": "text/x-python",
   "name": "python",
   "nbconvert_exporter": "python",
   "pygments_lexer": "ipython3",
   "version": "3.8.8"
  }
 },
 "nbformat": 4,
 "nbformat_minor": 5
}
